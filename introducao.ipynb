{
  "nbformat": 4,
  "nbformat_minor": 0,
  "metadata": {
    "colab": {
      "name": "Untitled0.ipynb",
      "provenance": [],
      "collapsed_sections": [],
      "authorship_tag": "ABX9TyNSgiYyGM3qzuhc+OTyuvlN",
      "include_colab_link": true
    },
    "kernelspec": {
      "name": "python3",
      "display_name": "Python 3"
    }
  },
  "cells": [
    {
      "cell_type": "markdown",
      "metadata": {
        "id": "view-in-github",
        "colab_type": "text"
      },
      "source": [
        "<a href=\"https://colab.research.google.com/github/LostReny/Ocean_Python_28_09_20/blob/master/introducao.ipynb\" target=\"_parent\"><img src=\"https://colab.research.google.com/assets/colab-badge.svg\" alt=\"Open In Colab\"/></a>"
      ]
    },
    {
      "cell_type": "code",
      "metadata": {
        "id": "t4hKv3QcuaAH",
        "outputId": "1e10f2f6-0ee0-4f90-fc45-68f90c4ffff0",
        "colab": {
          "base_uri": "https://localhost:8080/",
          "height": 34
        }
      },
      "source": [
        "print(\"Hello world!\")"
      ],
      "execution_count": 1,
      "outputs": [
        {
          "output_type": "stream",
          "text": [
            "Hello world!\n"
          ],
          "name": "stdout"
        }
      ]
    },
    {
      "cell_type": "code",
      "metadata": {
        "id": "JLeeVeAA0-SF"
      },
      "source": [
        "# Variáveis - armazenar informação na memória (RAM) para utilizar depois.\n",
        "\n",
        "variavel = 1"
      ],
      "execution_count": 2,
      "outputs": []
    },
    {
      "cell_type": "code",
      "metadata": {
        "id": "BZxU9R_Y2WMh"
      },
      "source": [
        "#Tipagem:\n",
        "#Java: fortemente tipada\n",
        "#c# : associação - tipada\n",
        "#python : implicito\n",
        "\n",
        "variavel_int = 5\n",
        "variavel_string = \"Lost\"\n",
        "variavel_float = 5.8\n",
        "variavel_bool = True"
      ],
      "execution_count": 5,
      "outputs": []
    },
    {
      "cell_type": "code",
      "metadata": {
        "id": "BjDkummR3P0m",
        "outputId": "fbcb9489-73dd-4a6a-da24-f7bb7f3dd512",
        "colab": {
          "base_uri": "https://localhost:8080/",
          "height": 34
        }
      },
      "source": [
        "print(variavel_string)"
      ],
      "execution_count": 6,
      "outputs": [
        {
          "output_type": "stream",
          "text": [
            "Lost\n"
          ],
          "name": "stdout"
        }
      ]
    },
    {
      "cell_type": "code",
      "metadata": {
        "id": "zC6IZDdT4MWx"
      },
      "source": [
        "variavel_inexistente = 5\n",
        "#Variáveis precisam ser declaradas antes"
      ],
      "execution_count": 7,
      "outputs": []
    },
    {
      "cell_type": "code",
      "metadata": {
        "id": "qG1fS9va4dam",
        "outputId": "4010ff7e-456a-4638-c783-246a05340822",
        "colab": {
          "base_uri": "https://localhost:8080/",
          "height": 34
        }
      },
      "source": [
        "print(variavel_inexistente)"
      ],
      "execution_count": 8,
      "outputs": [
        {
          "output_type": "stream",
          "text": [
            "5\n"
          ],
          "name": "stdout"
        }
      ]
    },
    {
      "cell_type": "code",
      "metadata": {
        "id": "xfvvYL466vBF",
        "outputId": "1f7d1004-dfcf-433d-8f5a-d03b630b3377",
        "colab": {
          "base_uri": "https://localhost:8080/",
          "height": 35
        }
      },
      "source": [
        "#Esse é um comentário de uma linha\n",
        "\n",
        "\"\"\"\n",
        "Esse\n",
        "comentário \n",
        "é\n",
        "de\n",
        "várias\n",
        "linhas\n",
        "\"\"\""
      ],
      "execution_count": 10,
      "outputs": [
        {
          "output_type": "execute_result",
          "data": {
            "application/vnd.google.colaboratory.intrinsic+json": {
              "type": "string"
            },
            "text/plain": [
              "'\\nEsse\\ncomentário \\né\\nde\\nvárias\\nlinhas\\n'"
            ]
          },
          "metadata": {
            "tags": []
          },
          "execution_count": 10
        }
      ]
    },
    {
      "cell_type": "code",
      "metadata": {
        "id": "02OA9DIS7a3j",
        "outputId": "f15f6bdb-4490-49fa-b282-2bef5ef1bb2a",
        "colab": {
          "base_uri": "https://localhost:8080/",
          "height": 34
        }
      },
      "source": [
        "adicao = 10 + 5\n",
        "subtracao = 10 - 5\n",
        "multiplicacao = 10 * 5\n",
        "divisao = 10 / 5\n",
        "exponenciacao = 3 ** 10\n",
        "\n",
        "divisao_inteira = 25 // 2\n",
        "\n",
        "#25 / 2 -> 12.5\n",
        "#25 // 2 -> 12\n",
        "#25 / 2, apenas nos inteiros, dá 12 e sobra 1\n",
        "\n",
        "resto_divisao_inteira = 50 % 10\n",
        "\n",
        "\n",
        "print(divisao_inteira)"
      ],
      "execution_count": 14,
      "outputs": [
        {
          "output_type": "stream",
          "text": [
            "12\n"
          ],
          "name": "stdout"
        }
      ]
    },
    {
      "cell_type": "code",
      "metadata": {
        "id": "jlLkVbf9-WGx",
        "outputId": "953c90df-4c10-4d13-e3e4-206370688f54",
        "colab": {
          "base_uri": "https://localhost:8080/",
          "height": 51
        }
      },
      "source": [
        "#EXERCÍCIO 1\n",
        "#Variavél refeição\n",
        "refeicao = 42.54\n",
        "\n",
        "#taxa serviço 10%\n",
        "taxa = 10\n",
        "\n",
        "#valor total conta\n",
        "valor_total = refeicao + (refeicao * taxa / 100)\n",
        "\n",
        "print(valor_total)\n",
        "\n",
        "print(42.54 * 1.1)"
      ],
      "execution_count": 24,
      "outputs": [
        {
          "output_type": "stream",
          "text": [
            "46.794\n",
            "46.794000000000004\n"
          ],
          "name": "stdout"
        }
      ]
    },
    {
      "cell_type": "code",
      "metadata": {
        "id": "J-mdUfvA_1Xz",
        "outputId": "af0130f0-ea7b-4d22-fe01-f5d26e95e2fd",
        "colab": {
          "base_uri": "https://localhost:8080/",
          "height": 34
        }
      },
      "source": [
        "nome = \"Puff\"\n",
        "sobrenome = \"Amarelo\"\n",
        "\n",
        "print(nome + \" \" + sobrenome) #União de duas informações na programamção chama-se \"concatenação\""
      ],
      "execution_count": 32,
      "outputs": [
        {
          "output_type": "stream",
          "text": [
            "Puff Amarelo\n"
          ],
          "name": "stdout"
        }
      ]
    },
    {
      "cell_type": "code",
      "metadata": {
        "id": "XAsZS_KLAb9P",
        "outputId": "6cddd56d-e34e-47ea-efc3-7da152d43e68",
        "colab": {
          "base_uri": "https://localhost:8080/",
          "height": 34
        }
      },
      "source": [
        "print(\"R$ \" + str(valor_total))"
      ],
      "execution_count": 30,
      "outputs": [
        {
          "output_type": "stream",
          "text": [
            "R$ 46.794\n"
          ],
          "name": "stdout"
        }
      ]
    },
    {
      "cell_type": "code",
      "metadata": {
        "id": "A-kyyVxuA76f",
        "outputId": "de61bff8-0824-44e1-a2a8-c588fdb585d8",
        "colab": {
          "base_uri": "https://localhost:8080/",
          "height": 34
        }
      },
      "source": [
        "primeira_letra = nome[0]\n",
        "ultima_letra = sobrenome[0]\n",
        "\n",
        "print(primeira_letra + ultima_letra)"
      ],
      "execution_count": 33,
      "outputs": [
        {
          "output_type": "stream",
          "text": [
            "PA\n"
          ],
          "name": "stdout"
        }
      ]
    },
    {
      "cell_type": "code",
      "metadata": {
        "id": "C_SgzhTjBSoN",
        "outputId": "d039f9a9-c7d2-46a8-dc95-24566c08a033",
        "colab": {
          "base_uri": "https://localhost:8080/",
          "height": 51
        }
      },
      "source": [
        "print(f\" O valor total da compra é R$ {valor_total:.2f}\") #2f - float, e o primeiro f é de formatar\n",
        "\n",
        "print(\"R$ {0:.2f}\" .format(valor_total)) #Antigamente"
      ],
      "execution_count": 39,
      "outputs": [
        {
          "output_type": "stream",
          "text": [
            " O valor total da compra é R$ 46.79\n",
            "R$ 46.79\n"
          ],
          "name": "stdout"
        }
      ]
    }
  ]
}