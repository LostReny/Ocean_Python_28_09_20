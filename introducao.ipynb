{
  "nbformat": 4,
  "nbformat_minor": 0,
  "metadata": {
    "colab": {
      "name": "Untitled0.ipynb",
      "provenance": [],
      "collapsed_sections": [],
      "authorship_tag": "ABX9TyNxOYhYSsWdJfjWRW9hBMa0",
      "include_colab_link": true
    },
    "kernelspec": {
      "name": "python3",
      "display_name": "Python 3"
    }
  },
  "cells": [
    {
      "cell_type": "markdown",
      "metadata": {
        "id": "view-in-github",
        "colab_type": "text"
      },
      "source": [
        "<a href=\"https://colab.research.google.com/github/LostReny/Ocean_Python_28_09_20/blob/master/introducao.ipynb\" target=\"_parent\"><img src=\"https://colab.research.google.com/assets/colab-badge.svg\" alt=\"Open In Colab\"/></a>"
      ]
    },
    {
      "cell_type": "code",
      "metadata": {
        "id": "t4hKv3QcuaAH",
        "outputId": "1e10f2f6-0ee0-4f90-fc45-68f90c4ffff0",
        "colab": {
          "base_uri": "https://localhost:8080/",
          "height": 34
        }
      },
      "source": [
        "print(\"Hello world!\")"
      ],
      "execution_count": 1,
      "outputs": [
        {
          "output_type": "stream",
          "text": [
            "Hello world!\n"
          ],
          "name": "stdout"
        }
      ]
    },
    {
      "cell_type": "code",
      "metadata": {
        "id": "JLeeVeAA0-SF"
      },
      "source": [
        "# Variáveis - armazenar informação na memória (RAM) para utilizar depois.\n",
        "\n",
        "variavel = 1"
      ],
      "execution_count": 2,
      "outputs": []
    },
    {
      "cell_type": "code",
      "metadata": {
        "id": "BZxU9R_Y2WMh"
      },
      "source": [
        "#Tipagem:\n",
        "#Java: fortemente tipada\n",
        "#c# : associação - tipada\n",
        "#python : implicito\n",
        "\n",
        "variavel_int = 5\n",
        "variavel_string = \"Lost\"\n",
        "variavel_float = 5.8\n",
        "variavel_bool = True"
      ],
      "execution_count": 5,
      "outputs": []
    },
    {
      "cell_type": "code",
      "metadata": {
        "id": "BjDkummR3P0m",
        "outputId": "fbcb9489-73dd-4a6a-da24-f7bb7f3dd512",
        "colab": {
          "base_uri": "https://localhost:8080/",
          "height": 34
        }
      },
      "source": [
        "print(variavel_string)"
      ],
      "execution_count": 6,
      "outputs": [
        {
          "output_type": "stream",
          "text": [
            "Lost\n"
          ],
          "name": "stdout"
        }
      ]
    },
    {
      "cell_type": "code",
      "metadata": {
        "id": "zC6IZDdT4MWx"
      },
      "source": [
        "variavel_inexistente = 5\n",
        "#Variáveis precisam ser declaradas antes"
      ],
      "execution_count": 7,
      "outputs": []
    },
    {
      "cell_type": "code",
      "metadata": {
        "id": "qG1fS9va4dam",
        "outputId": "4010ff7e-456a-4638-c783-246a05340822",
        "colab": {
          "base_uri": "https://localhost:8080/",
          "height": 34
        }
      },
      "source": [
        "print(variavel_inexistente)"
      ],
      "execution_count": 8,
      "outputs": [
        {
          "output_type": "stream",
          "text": [
            "5\n"
          ],
          "name": "stdout"
        }
      ]
    },
    {
      "cell_type": "code",
      "metadata": {
        "id": "xfvvYL466vBF",
        "outputId": "1f7d1004-dfcf-433d-8f5a-d03b630b3377",
        "colab": {
          "base_uri": "https://localhost:8080/",
          "height": 35
        }
      },
      "source": [
        "#Esse é um comentário de uma linha\n",
        "\n",
        "\"\"\"\n",
        "Esse\n",
        "comentário \n",
        "é\n",
        "de\n",
        "várias\n",
        "linhas\n",
        "\"\"\""
      ],
      "execution_count": 10,
      "outputs": [
        {
          "output_type": "execute_result",
          "data": {
            "application/vnd.google.colaboratory.intrinsic+json": {
              "type": "string"
            },
            "text/plain": [
              "'\\nEsse\\ncomentário \\né\\nde\\nvárias\\nlinhas\\n'"
            ]
          },
          "metadata": {
            "tags": []
          },
          "execution_count": 10
        }
      ]
    },
    {
      "cell_type": "code",
      "metadata": {
        "id": "02OA9DIS7a3j",
        "outputId": "f15f6bdb-4490-49fa-b282-2bef5ef1bb2a",
        "colab": {
          "base_uri": "https://localhost:8080/",
          "height": 34
        }
      },
      "source": [
        "adicao = 10 + 5\n",
        "subtracao = 10 - 5\n",
        "multiplicacao = 10 * 5\n",
        "divisao = 10 / 5\n",
        "exponenciacao = 3 ** 10\n",
        "\n",
        "divisao_inteira = 25 // 2\n",
        "\n",
        "#25 / 2 -> 12.5\n",
        "#25 // 2 -> 12\n",
        "#25 / 2, apenas nos inteiros, dá 12 e sobra 1\n",
        "\n",
        "resto_divisao_inteira = 50 % 10\n",
        "\n",
        "\n",
        "print(divisao_inteira)"
      ],
      "execution_count": 14,
      "outputs": [
        {
          "output_type": "stream",
          "text": [
            "12\n"
          ],
          "name": "stdout"
        }
      ]
    },
    {
      "cell_type": "code",
      "metadata": {
        "id": "jlLkVbf9-WGx",
        "outputId": "953c90df-4c10-4d13-e3e4-206370688f54",
        "colab": {
          "base_uri": "https://localhost:8080/",
          "height": 51
        }
      },
      "source": [
        "#EXERCÍCIO 1\n",
        "#Variavél refeição\n",
        "refeicao = 42.54\n",
        "\n",
        "#taxa serviço 10%\n",
        "taxa = 10\n",
        "\n",
        "#valor total conta\n",
        "valor_total = refeicao + (refeicao * taxa / 100)\n",
        "\n",
        "print(valor_total)\n",
        "\n",
        "print(42.54 * 1.1)"
      ],
      "execution_count": 24,
      "outputs": [
        {
          "output_type": "stream",
          "text": [
            "46.794\n",
            "46.794000000000004\n"
          ],
          "name": "stdout"
        }
      ]
    },
    {
      "cell_type": "code",
      "metadata": {
        "id": "J-mdUfvA_1Xz",
        "outputId": "af0130f0-ea7b-4d22-fe01-f5d26e95e2fd",
        "colab": {
          "base_uri": "https://localhost:8080/",
          "height": 34
        }
      },
      "source": [
        "nome = \"Puff\"\n",
        "sobrenome = \"Amarelo\"\n",
        "\n",
        "print(nome + \" \" + sobrenome) #União de duas informações na programamção chama-se \"concatenação\""
      ],
      "execution_count": 32,
      "outputs": [
        {
          "output_type": "stream",
          "text": [
            "Puff Amarelo\n"
          ],
          "name": "stdout"
        }
      ]
    },
    {
      "cell_type": "code",
      "metadata": {
        "id": "XAsZS_KLAb9P",
        "outputId": "6cddd56d-e34e-47ea-efc3-7da152d43e68",
        "colab": {
          "base_uri": "https://localhost:8080/",
          "height": 34
        }
      },
      "source": [
        "print(\"R$ \" + str(valor_total))"
      ],
      "execution_count": 30,
      "outputs": [
        {
          "output_type": "stream",
          "text": [
            "R$ 46.794\n"
          ],
          "name": "stdout"
        }
      ]
    },
    {
      "cell_type": "code",
      "metadata": {
        "id": "A-kyyVxuA76f",
        "outputId": "de61bff8-0824-44e1-a2a8-c588fdb585d8",
        "colab": {
          "base_uri": "https://localhost:8080/",
          "height": 34
        }
      },
      "source": [
        "primeira_letra = nome[0]\n",
        "ultima_letra = sobrenome[0]\n",
        "\n",
        "print(primeira_letra + ultima_letra)"
      ],
      "execution_count": 33,
      "outputs": [
        {
          "output_type": "stream",
          "text": [
            "PA\n"
          ],
          "name": "stdout"
        }
      ]
    },
    {
      "cell_type": "code",
      "metadata": {
        "id": "C_SgzhTjBSoN",
        "outputId": "d039f9a9-c7d2-46a8-dc95-24566c08a033",
        "colab": {
          "base_uri": "https://localhost:8080/",
          "height": 51
        }
      },
      "source": [
        "print(f\" O valor total da compra é R$ {valor_total:.2f}\") #2f - float, e o primeiro f é de formatar\n",
        "\n",
        "print(\"R$ {0:.2f}\" .format(valor_total)) #Antigamente"
      ],
      "execution_count": 39,
      "outputs": [
        {
          "output_type": "stream",
          "text": [
            " O valor total da compra é R$ 46.79\n",
            "R$ 46.79\n"
          ],
          "name": "stdout"
        }
      ]
    },
    {
      "cell_type": "code",
      "metadata": {
        "id": "IrnebtsEFxCO",
        "outputId": "41ddfa54-c53a-4c12-a69e-ae09dd1e8efe",
        "colab": {
          "base_uri": "https://localhost:8080/",
          "height": 85
        }
      },
      "source": [
        "print(nome)\n",
        "print(len(nome)) #quantidade de caracteres\n",
        "print(nome.lower()) # transforma texto para tudo em minúsculo\n",
        "print(nome.upper()) # transforma texto para tudo em maiúsculo\n",
        "\n",
        "#canal ignorancia zero (youtube) = curso de python\n",
        "#jogo em python - pythongame\n",
        "#zurubabel - curso de python\n",
        "#curso em vídeo - python\n",
        "#cognitiveclass.ai - datascience\n",
        "#datasciencyacademy"
      ],
      "execution_count": 43,
      "outputs": [
        {
          "output_type": "stream",
          "text": [
            "Puff\n",
            "4\n",
            "puff\n",
            "PUFF\n"
          ],
          "name": "stdout"
        }
      ]
    },
    {
      "cell_type": "code",
      "metadata": {
        "id": "PZy-z8qIHNfg",
        "outputId": "8b95b35b-b5b5-4e20-b89a-c9cea4577d98",
        "colab": {
          "base_uri": "https://localhost:8080/",
          "height": 102
        }
      },
      "source": [
        "nome = input(\"Digite seu nome:\\n\")\n",
        "sobrenome = input(\"Digite seu nome:\\n\")\n",
        "\n",
        "print(f\"Seu nome é {nome.capitalize()} {sobrenome.capitalize()}\")"
      ],
      "execution_count": 46,
      "outputs": [
        {
          "output_type": "stream",
          "text": [
            "Digite seu nome:\n",
            "Lost\n",
            "Digite seu nome:\n",
            "Reny\n",
            "Seu nome é Lost Reny\n"
          ],
          "name": "stdout"
        }
      ]
    },
    {
      "cell_type": "code",
      "metadata": {
        "id": "_ZqZyxlyI0iO",
        "outputId": "09e83815-dfc0-45d3-b13e-baf25d2f2080",
        "colab": {
          "base_uri": "https://localhost:8080/",
          "height": 51
        }
      },
      "source": [
        "def teste():\n",
        "  print(1)\n",
        "  print(2)\n",
        "\n",
        "teste()"
      ],
      "execution_count": 52,
      "outputs": [
        {
          "output_type": "stream",
          "text": [
            "1\n",
            "2\n"
          ],
          "name": "stdout"
        }
      ]
    },
    {
      "cell_type": "code",
      "metadata": {
        "id": "529G8NoKJxjV",
        "outputId": "ed680b05-ec0c-4cf3-f5cf-e54dde42ab13",
        "colab": {
          "base_uri": "https://localhost:8080/",
          "height": 153
        }
      },
      "source": [
        "#Exercicio 2\n",
        "\n",
        "nome = input(\"Digite seu nome:\\n\")\n",
        "idade = input(\"Digite sua idade:\\n\")\n",
        "genero = input(\"Digite seu gênero:\\n\")\n",
        "\n",
        "print(f\"Olá, {nome.capitalize()}, você possui {idade.capitalize()} anos de idade e é do gênero {genero.capitalize()}\")\n",
        "print(f\"Já pensou no que você fará no seu aniversário de {int(idade.capitalize()) + 1} anos?\")"
      ],
      "execution_count": 58,
      "outputs": [
        {
          "output_type": "stream",
          "text": [
            "Digite seu nome:\n",
            "Lost\n",
            "Digite sua idade:\n",
            "24\n",
            "Digite seu gênero:\n",
            "feminino\n",
            "Olá, Lost, você possui 24 anos de idade e é do gênero Feminino\n",
            "Já pensou no que você fará no seu aniversário de 25 anos?\n"
          ],
          "name": "stdout"
        }
      ]
    },
    {
      "cell_type": "code",
      "metadata": {
        "id": "dK9nPOJFMfSI",
        "outputId": "ffa11dd6-1586-4b85-bc24-92f0e3ec5bea",
        "colab": {
          "base_uri": "https://localhost:8080/",
          "height": 34
        }
      },
      "source": [
        "#importando bibliotecas\n",
        "#algumas são bibliotecas built-in, ou seja, já vem junto com o pyhton\n",
        "\n",
        "#importa datetime #impoorta a biblioteca inteira\n",
        "#importa as dt #importa a biblioteca inteira e muda o nome dela para dt\n",
        "\n",
        "\"\"\"\n",
        "Dentro da biblioteca datetime, importa uma outra declaração  também chamada 'datetime'\n",
        "que apesar do nome ser o mesmo, é diferente\n",
        "Depois, nomeia esse segundo 'datetime' como 'dt'\n",
        "\"\"\"\n",
        "from datetime import datetime as dt\n",
        "\n",
        "agora = dt.now()\n",
        "\n",
        "print(agora) #fuso horário do google- gmt0"
      ],
      "execution_count": 68,
      "outputs": [
        {
          "output_type": "stream",
          "text": [
            "2020-09-28 19:51:13.016778\n"
          ],
          "name": "stdout"
        }
      ]
    },
    {
      "cell_type": "code",
      "metadata": {
        "id": "ZDNPqu-6P4Gp"
      },
      "source": [
        "#bibliotecas built-in dispóniveis no colab jupyter(sem precisar instalar)\n",
        "!pip freeze"
      ],
      "execution_count": null,
      "outputs": []
    },
    {
      "cell_type": "code",
      "metadata": {
        "id": "C93WY-dJQFMO",
        "outputId": "ab9316e3-3ea8-431e-d440-9cf990a7bf21",
        "colab": {
          "base_uri": "https://localhost:8080/",
          "height": 34
        }
      },
      "source": [
        "ano_atual = agora.year\n",
        "mes_atual = agora.month\n",
        "dia_atual = agora.day\n",
        "\n",
        "exibicao_data = f\"{dia_atual:02}/{mes_atual:02}/{ano_atual:04}\"\n",
        "print(exibicao_data)"
      ],
      "execution_count": 69,
      "outputs": [
        {
          "output_type": "stream",
          "text": [
            "28/09/2020\n"
          ],
          "name": "stdout"
        }
      ]
    },
    {
      "cell_type": "code",
      "metadata": {
        "id": "vdprZ6mqQ92D",
        "outputId": "2501a63e-76d6-45d7-dc3f-44da38b573ac",
        "colab": {
          "base_uri": "https://localhost:8080/",
          "height": 34
        }
      },
      "source": [
        "#Exercício 3\n",
        "hora_atual = agora.hour\n",
        "minuto_atual = agora.minute\n",
        "segundo_atual = agora.second\n",
        "\n",
        "exibicao_data = f\"{dia_atual:02}/{mes_atual:02}/{ano_atual:04} - {hora_atual:02}h{minuto_atual:02}m{segundo_atual:02}s\"\n",
        "print(exibicao_data)\n"
      ],
      "execution_count": 70,
      "outputs": [
        {
          "output_type": "stream",
          "text": [
            "28/09/2020 - 19h51m13s\n"
          ],
          "name": "stdout"
        }
      ]
    },
    {
      "cell_type": "code",
      "metadata": {
        "id": "AwfO9pU1ruol",
        "outputId": "64cafe05-b862-4eac-c4cd-23c8ba1b958e",
        "colab": {
          "base_uri": "https://localhost:8080/",
          "height": 119
        }
      },
      "source": [
        "# Tarefa de casa - exercício 4\n",
        "\n",
        "from datetime import datetime as ds\n",
        "data_atual = ds.now()\n",
        "print(\"{}/{}/{} -{}h{}m{}s\".format(data_atual.day, data_atual.month, data_atual.year, data_atual.hour, data_atual.minute, data_atual.second))\n",
        "\n",
        "\n",
        "dia_usuario = int(input(\"Dia: \"))\n",
        "mes_usuario = int(input(\"Mês: \"))\n",
        "ano_usuario = int(input(\"Ano: \"))\n",
        "data_usuario = datetime(ano_usuario, mes_usuario, dia_usuario)\n",
        "print(\"{}/{}/{} - Dia da semana : {}\".format(data_usuario.day, data_usuario.month, data_usuario.year, data_usuario.weekday()))\n",
        "\n",
        "diferenca = data_atual - data_usuario\n",
        "print(\"A diferença entre as datas é de {} dias\".format(diferenca.days))\n"
      ],
      "execution_count": 120,
      "outputs": [
        {
          "output_type": "stream",
          "text": [
            "29/9/2020 -0h33m24s\n",
            "Dia: 28\n",
            "Mês: 09\n",
            "Ano: 2020\n",
            "28/9/2020 - Dia da semana : 0\n",
            "A diferença entre as datas é de 1 dias\n"
          ],
          "name": "stdout"
        }
      ]
    }
  ]
}